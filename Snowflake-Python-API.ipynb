{
 "cells": [
  {
   "cell_type": "code",
   "execution_count": null,
   "metadata": {},
   "outputs": [],
   "source": []
  },
  {
   "cell_type": "code",
   "execution_count": null,
   "metadata": {},
   "outputs": [],
   "source": [
    "#!pip install snowflake-connector-python\n",
    "#!pip install snowflake-sqlalchemy\n",
    "#!pip install --user snowflake-connector-python[pandas]"
   ]
  },
  {
   "cell_type": "code",
   "execution_count": null,
   "metadata": {},
   "outputs": [],
   "source": [
    "import snowflake.connector as sf\n",
    "from sqlalchemy import create_engine\n",
    "import pandas as pd\n",
    "import config \n",
    "#snowflake.connector.paramstyle = 'qmark' # By default, binding mode is pyformat today."
   ]
  },
  {
   "cell_type": "code",
   "execution_count": null,
   "metadata": {},
   "outputs": [],
   "source": [
    "conn = sf.connect(\n",
    "    user=config.USER,\n",
    "    password=config.PASSWORD,\n",
    "    account=config.ACCOUNT,\n",
    ")"
   ]
  },
  {
   "cell_type": "code",
   "execution_count": null,
   "metadata": {},
   "outputs": [],
   "source": [
    "conn = sf.connect(\n",
    "                user=config.USER,\n",
    "                password=config.PASSWORD,\n",
    "                account=config.ACCOUNT,\n",
    "                warehouse=config.WAREHOUSE,\n",
    "                database=config.DATABASE,\n",
    "                schema=config.SCHEMA\n",
    "                )"
   ]
  },
  {
   "cell_type": "code",
   "execution_count": null,
   "metadata": {},
   "outputs": [],
   "source": [
    "cur = conn.cursor()\n",
    "query = 'select * from \"FR_DATAHUB_SANDBOX\".\"DWH\".\"TANGO_FINANCE\"'\n",
    "try:\n",
    "    cur.execute(query)\n",
    "    for i in cur:\n",
    "        print(i)\n",
    "finally:\n",
    "    cur.close()"
   ]
  },
  {
   "cell_type": "code",
   "execution_count": null,
   "metadata": {},
   "outputs": [],
   "source": [
    "sql_command = \"select col1, col2 from test_table \"\n",
    "sql_command += \" where col2 like '%%York' limit %(lim)s\"\n",
    "parameter_dictionary = {'lim': 1 }\n",
    "cur.execute(sql_command, parameter_dictionary)"
   ]
  },
  {
   "cell_type": "code",
   "execution_count": null,
   "metadata": {},
   "outputs": [],
   "source": []
  },
  {
   "cell_type": "code",
   "execution_count": null,
   "metadata": {},
   "outputs": [],
   "source": [
    "df = \n",
    "# Write the data from the DataFrame to the table named \"df_tab2\".\n",
    "success, nchunks, nrows, _ = write_pandas(cnx, df, 'df_tab2')"
   ]
  }
 ],
 "metadata": {
  "kernelspec": {
   "display_name": "Python 3",
   "language": "python",
   "name": "python3"
  },
  "language_info": {
   "codemirror_mode": {
    "name": "ipython",
    "version": 3
   },
   "file_extension": ".py",
   "mimetype": "text/x-python",
   "name": "python",
   "nbconvert_exporter": "python",
   "pygments_lexer": "ipython3",
   "version": "3.7.4"
  }
 },
 "nbformat": 4,
 "nbformat_minor": 2
}
